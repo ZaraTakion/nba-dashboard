{
 "cells": [
  {
   "cell_type": "code",
   "execution_count": 1,
   "id": "ee616cd3-8155-44cc-a18f-37916f16bb1f",
   "metadata": {},
   "outputs": [],
   "source": [
    "import pandas as pd"
   ]
  },
  {
   "cell_type": "code",
   "execution_count": 11,
   "id": "29d57e17-3913-4eb1-8afd-3207d31a77b9",
   "metadata": {},
   "outputs": [],
   "source": [
    "df = pd.read_csv('../data/pergame_stats_total.csv')"
   ]
  },
  {
   "cell_type": "code",
   "execution_count": 4,
   "id": "47b104a6-f5a0-4260-b9ef-f84b5addd0c7",
   "metadata": {},
   "outputs": [
    {
     "name": "stdout",
     "output_type": "stream",
     "text": [
      "<class 'pandas.core.frame.DataFrame'>\n",
      "RangeIndex: 739 entries, 0 to 738\n",
      "Data columns (total 27 columns):\n",
      " #   Column      Non-Null Count  Dtype  \n",
      "---  ------      --------------  -----  \n",
      " 0   Unnamed: 0  739 non-null    int64  \n",
      " 1   Rk          715 non-null    float64\n",
      " 2   Team        739 non-null    object \n",
      " 3   G           739 non-null    int64  \n",
      " 4   MP          739 non-null    float64\n",
      " 5   FG          739 non-null    float64\n",
      " 6   FGA         739 non-null    float64\n",
      " 7   FG_Percent  739 non-null    float64\n",
      " 8   3P          739 non-null    float64\n",
      " 9   3PA         739 non-null    float64\n",
      " 10  3P_Percent  739 non-null    float64\n",
      " 11  2P          739 non-null    float64\n",
      " 12  2PA         739 non-null    float64\n",
      " 13  2P_Percent  739 non-null    float64\n",
      " 14  FT          739 non-null    float64\n",
      " 15  FTA         739 non-null    float64\n",
      " 16  FT_Percent  739 non-null    float64\n",
      " 17  ORB         739 non-null    float64\n",
      " 18  DRB         739 non-null    float64\n",
      " 19  TRB         739 non-null    float64\n",
      " 20  AST         739 non-null    float64\n",
      " 21  STL         739 non-null    float64\n",
      " 22  BLK         739 non-null    float64\n",
      " 23  TOV         739 non-null    float64\n",
      " 24  PF          739 non-null    float64\n",
      " 25  PTS         739 non-null    float64\n",
      " 26  Year        739 non-null    int64  \n",
      "dtypes: float64(23), int64(3), object(1)\n",
      "memory usage: 156.0+ KB\n",
      "None\n"
     ]
    }
   ],
   "source": [
    "print(df.info())"
   ]
  },
  {
   "cell_type": "code",
   "execution_count": 5,
   "id": "f177a02e-f313-4fd5-a195-1df5083e91d6",
   "metadata": {},
   "outputs": [
    {
     "name": "stdout",
     "output_type": "stream",
     "text": [
      "   Unnamed: 0   Rk               Team   G     MP    FG   FGA  FG_Percent   3P  \\\n",
      "0           1  1.0  Sacramento Kings*  82  241.5  40.0  88.9       0.450  6.5   \n",
      "1           2  2.0   Detroit Pistons*  82  241.8  37.1  80.9       0.459  5.4   \n",
      "2           3  3.0   Dallas Mavericks  82  240.6  39.0  85.9       0.453  6.3   \n",
      "3           4  4.0    Indiana Pacers*  82  240.6  37.2  81.0       0.459  7.1   \n",
      "4           5  5.0   Milwaukee Bucks*  82  242.1  38.7  83.3       0.465  4.8   \n",
      "\n",
      "    3PA  ...   ORB   DRB   TRB   AST  STL  BLK   TOV    PF    PTS  Year  \n",
      "0  20.2  ...  12.9  32.1  45.0  23.8  9.6  4.6  16.2  21.1  105.0  2000  \n",
      "1  14.9  ...  11.2  30.0  41.2  20.8  8.1  3.3  15.7  24.5  103.5  2000  \n",
      "2  16.2  ...  11.4  29.8  41.2  22.1  7.2  5.1  13.7  21.6  101.4  2000  \n",
      "3  18.1  ...  10.3  31.9  42.1  22.6  6.8  5.1  14.1  21.8  101.3  2000  \n",
      "4  13.0  ...  12.4  28.9  41.3  22.6  8.2  4.6  15.0  24.6  101.2  2000  \n",
      "\n",
      "[5 rows x 27 columns]\n"
     ]
    }
   ],
   "source": [
    "print(df.head())"
   ]
  },
  {
   "cell_type": "code",
   "execution_count": 12,
   "id": "cadd68fc-2541-4418-a24b-6845159b9868",
   "metadata": {},
   "outputs": [],
   "source": [
    "df.columns = df.columns.str.strip()"
   ]
  },
  {
   "cell_type": "code",
   "execution_count": 13,
   "id": "58f991b8-c1b1-444c-a163-5519c480972d",
   "metadata": {},
   "outputs": [],
   "source": [
    "df.rename(columns={'Year': 'Season'}, inplace=True)"
   ]
  },
  {
   "cell_type": "code",
   "execution_count": 14,
   "id": "818f798d-79cc-4709-b4a7-70c09fe710d6",
   "metadata": {},
   "outputs": [],
   "source": [
    "df.dropna(how='all', inplace=True)"
   ]
  },
  {
   "cell_type": "code",
   "execution_count": 15,
   "id": "e67a752b-4950-4019-bb3d-7a7fce9efd27",
   "metadata": {},
   "outputs": [],
   "source": [
    "df.drop_duplicates(inplace=True)"
   ]
  },
  {
   "cell_type": "code",
   "execution_count": 16,
   "id": "79eb36ee-b3b9-425f-83d3-58297e9df1e7",
   "metadata": {},
   "outputs": [],
   "source": [
    "if 'Unnamed: 0' in df.columns:\n",
    "    df.drop(columns=['Unnamed: 0'], inplace=True)"
   ]
  },
  {
   "cell_type": "code",
   "execution_count": 17,
   "id": "57a14f0a-e37d-462b-ac49-afbc0b08cfdf",
   "metadata": {},
   "outputs": [],
   "source": [
    "df['Season'] = df['Season'].astype(str)"
   ]
  },
  {
   "cell_type": "code",
   "execution_count": 18,
   "id": "97c40406-ea53-4376-9eef-7e26d4aca934",
   "metadata": {},
   "outputs": [],
   "source": [
    "numeric_cols = df.select_dtypes(include=['int64', 'float64']).columns"
   ]
  },
  {
   "cell_type": "code",
   "execution_count": 19,
   "id": "577aae3d-7c4e-4e70-bff1-e71669a13427",
   "metadata": {},
   "outputs": [],
   "source": [
    "df[numeric_cols] = df[numeric_cols].apply(pd.to_numeric, errors='coerce')"
   ]
  },
  {
   "cell_type": "code",
   "execution_count": 20,
   "id": "d1ee2ee1-bbdf-4070-8dc6-8eeb1a6c9825",
   "metadata": {},
   "outputs": [
    {
     "name": "stdout",
     "output_type": "stream",
     "text": [
      "Dimensões: (739, 26)\n",
      "Colunas: ['Rk', 'Team', 'G', 'MP', 'FG', 'FGA', 'FG_Percent', '3P', '3PA', '3P_Percent', '2P', '2PA', '2P_Percent', 'FT', 'FTA', 'FT_Percent', 'ORB', 'DRB', 'TRB', 'AST', 'STL', 'BLK', 'TOV', 'PF', 'PTS', 'Season']\n",
      "    Rk               Team   G     MP    FG   FGA  FG_Percent   3P   3PA  \\\n",
      "0  1.0  Sacramento Kings*  82  241.5  40.0  88.9       0.450  6.5  20.2   \n",
      "1  2.0   Detroit Pistons*  82  241.8  37.1  80.9       0.459  5.4  14.9   \n",
      "2  3.0   Dallas Mavericks  82  240.6  39.0  85.9       0.453  6.3  16.2   \n",
      "3  4.0    Indiana Pacers*  82  240.6  37.2  81.0       0.459  7.1  18.1   \n",
      "4  5.0   Milwaukee Bucks*  82  242.1  38.7  83.3       0.465  4.8  13.0   \n",
      "\n",
      "   3P_Percent  ...   ORB   DRB   TRB   AST  STL  BLK   TOV    PF    PTS  \\\n",
      "0       0.322  ...  12.9  32.1  45.0  23.8  9.6  4.6  16.2  21.1  105.0   \n",
      "1       0.359  ...  11.2  30.0  41.2  20.8  8.1  3.3  15.7  24.5  103.5   \n",
      "2       0.391  ...  11.4  29.8  41.2  22.1  7.2  5.1  13.7  21.6  101.4   \n",
      "3       0.392  ...  10.3  31.9  42.1  22.6  6.8  5.1  14.1  21.8  101.3   \n",
      "4       0.369  ...  12.4  28.9  41.3  22.6  8.2  4.6  15.0  24.6  101.2   \n",
      "\n",
      "   Season  \n",
      "0    2000  \n",
      "1    2000  \n",
      "2    2000  \n",
      "3    2000  \n",
      "4    2000  \n",
      "\n",
      "[5 rows x 26 columns]\n"
     ]
    }
   ],
   "source": [
    "print(\"Dimensões:\", df.shape)\n",
    "print(\"Colunas:\", df.columns.tolist())\n",
    "print(df.head(5))"
   ]
  },
  {
   "cell_type": "code",
   "execution_count": 21,
   "id": "a5751747-b4ab-4068-af5e-e91f63be3a1f",
   "metadata": {},
   "outputs": [
    {
     "name": "stdout",
     "output_type": "stream",
     "text": [
      "✅ Arquivo limpo salvo em data/nba_clean.csv\n"
     ]
    }
   ],
   "source": [
    "df.to_csv('../data/nba_clean.csv', index=False)\n",
    "print(\"✅ Arquivo limpo salvo em data/nba_clean.csv\")"
   ]
  },
  {
   "cell_type": "code",
   "execution_count": null,
   "id": "2b05403c-3f71-4437-a4ea-c39f7c2f3c6f",
   "metadata": {},
   "outputs": [],
   "source": []
  }
 ],
 "metadata": {
  "kernelspec": {
   "display_name": "Python 3 (ipykernel)",
   "language": "python",
   "name": "python3"
  },
  "language_info": {
   "codemirror_mode": {
    "name": "ipython",
    "version": 3
   },
   "file_extension": ".py",
   "mimetype": "text/x-python",
   "name": "python",
   "nbconvert_exporter": "python",
   "pygments_lexer": "ipython3",
   "version": "3.13.5"
  }
 },
 "nbformat": 4,
 "nbformat_minor": 5
}
